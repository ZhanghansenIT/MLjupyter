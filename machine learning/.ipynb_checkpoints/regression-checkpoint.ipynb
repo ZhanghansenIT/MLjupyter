{
 "cells": [
  {
   "cell_type": "markdown",
   "id": "655e86cd-79bb-43d6-a80d-03b04cba77a9",
   "metadata": {},
   "source": [
    "## Machine Learning "
   ]
  },
  {
   "cell_type": "code",
   "execution_count": null,
   "id": "7c72877f-0644-495c-83b5-1ffb86577f3e",
   "metadata": {},
   "outputs": [],
   "source": [
    "import torch \n"
   ]
  },
  {
   "cell_type": "markdown",
   "id": "850eb12f-70a4-4c2b-bc4d-90dd5319ec34",
   "metadata": {},
   "source": [
    "### 线性回归"
   ]
  },
  {
   "cell_type": "code",
   "execution_count": null,
   "id": "349fdcb4-541e-4a09-96af-c1a405227f4b",
   "metadata": {},
   "outputs": [],
   "source": [
    "w = [2,3]\n",
    "w"
   ]
  },
  {
   "cell_type": "code",
   "execution_count": null,
   "id": "afaba95d-357b-4f88-b399-43ed6e78f373",
   "metadata": {},
   "outputs": [],
   "source": []
  }
 ],
 "metadata": {
  "kernelspec": {
   "display_name": "Python 3 (ipykernel)",
   "language": "python",
   "name": "python3"
  },
  "language_info": {
   "codemirror_mode": {
    "name": "ipython",
    "version": 3
   },
   "file_extension": ".py",
   "mimetype": "text/x-python",
   "name": "python",
   "nbconvert_exporter": "python",
   "pygments_lexer": "ipython3",
   "version": "3.9.18"
  }
 },
 "nbformat": 4,
 "nbformat_minor": 5
}
