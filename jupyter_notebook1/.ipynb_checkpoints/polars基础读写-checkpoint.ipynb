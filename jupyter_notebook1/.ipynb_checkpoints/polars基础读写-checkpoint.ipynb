{
 "cells": [
  {
   "cell_type": "code",
   "execution_count": 1,
   "id": "19bab990-fe5f-40d5-85ba-7d40f6a3a603",
   "metadata": {},
   "outputs": [],
   "source": [
    "import polars as pl \n",
    "from datetime import datetime \n"
   ]
  },
  {
   "cell_type": "code",
   "execution_count": 2,
   "id": "3baf079d-2dff-40e6-869a-d69a7e577f68",
   "metadata": {},
   "outputs": [
    {
     "data": {
      "text/html": [
       "<div><style>\n",
       ".dataframe > thead > tr,\n",
       ".dataframe > tbody > tr {\n",
       "  text-align: right;\n",
       "  white-space: pre-wrap;\n",
       "}\n",
       "</style>\n",
       "<small>shape: (3, 3)</small><table border=\"1\" class=\"dataframe\"><thead><tr><th>integer</th><th>date</th><th>float</th></tr><tr><td>i64</td><td>datetime[μs]</td><td>f64</td></tr></thead><tbody><tr><td>1</td><td>2022-01-01 00:00:00</td><td>4.0</td></tr><tr><td>2</td><td>2022-01-02 00:00:00</td><td>5.0</td></tr><tr><td>3</td><td>2022-01-03 00:00:00</td><td>6.0</td></tr></tbody></table></div>"
      ],
      "text/plain": [
       "shape: (3, 3)\n",
       "┌─────────┬─────────────────────┬───────┐\n",
       "│ integer ┆ date                ┆ float │\n",
       "│ ---     ┆ ---                 ┆ ---   │\n",
       "│ i64     ┆ datetime[μs]        ┆ f64   │\n",
       "╞═════════╪═════════════════════╪═══════╡\n",
       "│ 1       ┆ 2022-01-01 00:00:00 ┆ 4.0   │\n",
       "│ 2       ┆ 2022-01-02 00:00:00 ┆ 5.0   │\n",
       "│ 3       ┆ 2022-01-03 00:00:00 ┆ 6.0   │\n",
       "└─────────┴─────────────────────┴───────┘"
      ]
     },
     "execution_count": 2,
     "metadata": {},
     "output_type": "execute_result"
    }
   ],
   "source": [
    "df = pl.DataFrame(\n",
    "   {\n",
    "        \"integer\": [1, 2, 3],\n",
    "        \"date\": [\n",
    "            datetime(2022, 1, 1),\n",
    "            datetime(2022, 1, 2),\n",
    "            datetime(2022, 1, 3),\n",
    "        ],\n",
    "        \"float\": [4.0, 5.0, 6.0],\n",
    "    }\n",
    ")\n",
    "df\n",
    "    "
   ]
  },
  {
   "cell_type": "markdown",
   "id": "4f876593-be7a-4b60-b1e3-b514495abbc6",
   "metadata": {},
   "source": [
    "#### Polars 实现快速的读写 csv"
   ]
  },
  {
   "cell_type": "code",
   "execution_count": 3,
   "id": "4df3582f-6d39-4dad-8c70-1e40fe14c349",
   "metadata": {},
   "outputs": [
    {
     "name": "stdout",
     "output_type": "stream",
     "text": [
      "shape: (3, 3)\n",
      "┌─────────┬────────────────────────────┬───────┐\n",
      "│ integer ┆ date                       ┆ float │\n",
      "│ ---     ┆ ---                        ┆ ---   │\n",
      "│ i64     ┆ str                        ┆ f64   │\n",
      "╞═════════╪════════════════════════════╪═══════╡\n",
      "│ 1       ┆ 2022-01-01T00:00:00.000000 ┆ 4.0   │\n",
      "│ 2       ┆ 2022-01-02T00:00:00.000000 ┆ 5.0   │\n",
      "│ 3       ┆ 2022-01-03T00:00:00.000000 ┆ 6.0   │\n",
      "└─────────┴────────────────────────────┴───────┘\n"
     ]
    }
   ],
   "source": [
    "df.write_csv('./datasets/output.csv')\n",
    "df_csv = pl.read_csv('./datasets/output.csv')\n",
    "print(df_csv)"
   ]
  },
  {
   "cell_type": "markdown",
   "id": "28224b20-4c43-432b-b3ea-e4aa201cb0d6",
   "metadata": {},
   "source": [
    "**上面 polar将 date 类型调整成了 str类型,下面进行修改**"
   ]
  },
  {
   "cell_type": "code",
   "execution_count": 5,
   "id": "6bedefec-de28-4e05-bd6a-6aac188f65ad",
   "metadata": {},
   "outputs": [
    {
     "name": "stdout",
     "output_type": "stream",
     "text": [
      "shape: (3, 3)\n",
      "┌─────────┬─────────────────────┬───────┐\n",
      "│ integer ┆ date                ┆ float │\n",
      "│ ---     ┆ ---                 ┆ ---   │\n",
      "│ i64     ┆ datetime[μs]        ┆ f64   │\n",
      "╞═════════╪═════════════════════╪═══════╡\n",
      "│ 1       ┆ 2022-01-01 00:00:00 ┆ 4.0   │\n",
      "│ 2       ┆ 2022-01-02 00:00:00 ┆ 5.0   │\n",
      "│ 3       ┆ 2022-01-03 00:00:00 ┆ 6.0   │\n",
      "└─────────┴─────────────────────┴───────┘\n"
     ]
    }
   ],
   "source": [
    "df_csv = pl.read_csv(\"./datasets/output.csv\", try_parse_dates=True)\n",
    "print(df_csv)"
   ]
  },
  {
   "cell_type": "code",
   "execution_count": null,
   "id": "8291cc9c-ea16-40e5-b110-1a1e1fcc1e15",
   "metadata": {},
   "outputs": [],
   "source": []
  }
 ],
 "metadata": {
  "kernelspec": {
   "display_name": "Python 3 (ipykernel)",
   "language": "python",
   "name": "python3"
  },
  "language_info": {
   "codemirror_mode": {
    "name": "ipython",
    "version": 3
   },
   "file_extension": ".py",
   "mimetype": "text/x-python",
   "name": "python",
   "nbconvert_exporter": "python",
   "pygments_lexer": "ipython3",
   "version": "3.9.18"
  }
 },
 "nbformat": 4,
 "nbformat_minor": 5
}
