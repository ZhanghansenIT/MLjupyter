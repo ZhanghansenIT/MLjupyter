{
 "cells": [
  {
   "cell_type": "markdown",
   "id": "827f2f86-886a-487b-aa9c-30b38ad7d14f",
   "metadata": {},
   "source": [
    "### Combing DataFrames\n",
    "\n",
    "有两种方式，`DataFrame`可以结合"
   ]
  },
  {
   "cell_type": "markdown",
   "id": "08df9449-5b92-4d03-b3a4-1aaa0d2614b0",
   "metadata": {},
   "source": [
    "#### Join\n",
    "Polars supports all types of join (e.g. left, right, inner, outer). Let's have a closer look on how to join two DataFrames into a single DataFrame. Our two DataFrames both have an 'id'-like column: a and x. We can use those columns to join the DataFrames in this example."
   ]
  },
  {
   "cell_type": "code",
   "execution_count": 4,
   "id": "08d80bff-c2a6-42be-be3f-0b4c5e899cbd",
   "metadata": {},
   "outputs": [],
   "source": [
    "import polars as pl \n",
    "import pandas as pd \n",
    "import numpy as np "
   ]
  },
  {
   "cell_type": "code",
   "execution_count": 5,
   "id": "a3916088-f931-4e57-8172-7b23d04725d6",
   "metadata": {},
   "outputs": [],
   "source": [
    "df = pl.DataFrame(\n",
    "    {\n",
    "        \"a\": range(8),\n",
    "        \"b\": np.random.rand(8),\n",
    "        \"d\": [1, 2.0, float(\"nan\"), float(\"nan\"), 0, -5, -42, None],\n",
    "    }\n",
    ")"
   ]
  },
  {
   "cell_type": "code",
   "execution_count": 6,
   "id": "a1a39f2c-7a6f-47c3-834d-0eea82d0e50b",
   "metadata": {},
   "outputs": [
    {
     "data": {
      "text/html": [
       "<div><style>\n",
       ".dataframe > thead > tr,\n",
       ".dataframe > tbody > tr {\n",
       "  text-align: right;\n",
       "  white-space: pre-wrap;\n",
       "}\n",
       "</style>\n",
       "<small>shape: (8, 3)</small><table border=\"1\" class=\"dataframe\"><thead><tr><th>a</th><th>b</th><th>d</th></tr><tr><td>i64</td><td>f64</td><td>f64</td></tr></thead><tbody><tr><td>0</td><td>0.133327</td><td>1.0</td></tr><tr><td>1</td><td>0.431874</td><td>2.0</td></tr><tr><td>2</td><td>0.734874</td><td>NaN</td></tr><tr><td>3</td><td>0.558737</td><td>NaN</td></tr><tr><td>4</td><td>0.060985</td><td>0.0</td></tr><tr><td>5</td><td>0.666439</td><td>-5.0</td></tr><tr><td>6</td><td>0.299762</td><td>-42.0</td></tr><tr><td>7</td><td>0.380187</td><td>null</td></tr></tbody></table></div>"
      ],
      "text/plain": [
       "shape: (8, 3)\n",
       "┌─────┬──────────┬───────┐\n",
       "│ a   ┆ b        ┆ d     │\n",
       "│ --- ┆ ---      ┆ ---   │\n",
       "│ i64 ┆ f64      ┆ f64   │\n",
       "╞═════╪══════════╪═══════╡\n",
       "│ 0   ┆ 0.133327 ┆ 1.0   │\n",
       "│ 1   ┆ 0.431874 ┆ 2.0   │\n",
       "│ 2   ┆ 0.734874 ┆ NaN   │\n",
       "│ 3   ┆ 0.558737 ┆ NaN   │\n",
       "│ 4   ┆ 0.060985 ┆ 0.0   │\n",
       "│ 5   ┆ 0.666439 ┆ -5.0  │\n",
       "│ 6   ┆ 0.299762 ┆ -42.0 │\n",
       "│ 7   ┆ 0.380187 ┆ null  │\n",
       "└─────┴──────────┴───────┘"
      ]
     },
     "execution_count": 6,
     "metadata": {},
     "output_type": "execute_result"
    }
   ],
   "source": [
    "df"
   ]
  },
  {
   "cell_type": "code",
   "execution_count": 7,
   "id": "d885462d-fe3d-4e22-8fe4-8adc828ccdbe",
   "metadata": {},
   "outputs": [],
   "source": [
    "df2 = pl.DataFrame(\n",
    "    {\n",
    "        \"x\": range(8),\n",
    "        \"y\": [\"A\", \"A\", \"A\", \"B\", \"B\", \"C\", \"X\", \"X\"],\n",
    "    }\n",
    ")"
   ]
  },
  {
   "cell_type": "code",
   "execution_count": 8,
   "id": "9abaa586-d6f2-42b4-8a61-98a52e929ebb",
   "metadata": {},
   "outputs": [
    {
     "data": {
      "text/html": [
       "<div><style>\n",
       ".dataframe > thead > tr,\n",
       ".dataframe > tbody > tr {\n",
       "  text-align: right;\n",
       "  white-space: pre-wrap;\n",
       "}\n",
       "</style>\n",
       "<small>shape: (8, 2)</small><table border=\"1\" class=\"dataframe\"><thead><tr><th>x</th><th>y</th></tr><tr><td>i64</td><td>str</td></tr></thead><tbody><tr><td>0</td><td>&quot;A&quot;</td></tr><tr><td>1</td><td>&quot;A&quot;</td></tr><tr><td>2</td><td>&quot;A&quot;</td></tr><tr><td>3</td><td>&quot;B&quot;</td></tr><tr><td>4</td><td>&quot;B&quot;</td></tr><tr><td>5</td><td>&quot;C&quot;</td></tr><tr><td>6</td><td>&quot;X&quot;</td></tr><tr><td>7</td><td>&quot;X&quot;</td></tr></tbody></table></div>"
      ],
      "text/plain": [
       "shape: (8, 2)\n",
       "┌─────┬─────┐\n",
       "│ x   ┆ y   │\n",
       "│ --- ┆ --- │\n",
       "│ i64 ┆ str │\n",
       "╞═════╪═════╡\n",
       "│ 0   ┆ A   │\n",
       "│ 1   ┆ A   │\n",
       "│ 2   ┆ A   │\n",
       "│ 3   ┆ B   │\n",
       "│ 4   ┆ B   │\n",
       "│ 5   ┆ C   │\n",
       "│ 6   ┆ X   │\n",
       "│ 7   ┆ X   │\n",
       "└─────┴─────┘"
      ]
     },
     "execution_count": 8,
     "metadata": {},
     "output_type": "execute_result"
    }
   ],
   "source": [
    "df2\n"
   ]
  },
  {
   "cell_type": "code",
   "execution_count": 9,
   "id": "4133bd4b-b049-4364-915b-ee8510fd5248",
   "metadata": {},
   "outputs": [
    {
     "name": "stdout",
     "output_type": "stream",
     "text": [
      "shape: (8, 4)\n",
      "┌─────┬──────────┬───────┬─────┐\n",
      "│ a   ┆ b        ┆ d     ┆ y   │\n",
      "│ --- ┆ ---      ┆ ---   ┆ --- │\n",
      "│ i64 ┆ f64      ┆ f64   ┆ str │\n",
      "╞═════╪══════════╪═══════╪═════╡\n",
      "│ 0   ┆ 0.133327 ┆ 1.0   ┆ A   │\n",
      "│ 1   ┆ 0.431874 ┆ 2.0   ┆ A   │\n",
      "│ 2   ┆ 0.734874 ┆ NaN   ┆ A   │\n",
      "│ 3   ┆ 0.558737 ┆ NaN   ┆ B   │\n",
      "│ 4   ┆ 0.060985 ┆ 0.0   ┆ B   │\n",
      "│ 5   ┆ 0.666439 ┆ -5.0  ┆ C   │\n",
      "│ 6   ┆ 0.299762 ┆ -42.0 ┆ X   │\n",
      "│ 7   ┆ 0.380187 ┆ null  ┆ X   │\n",
      "└─────┴──────────┴───────┴─────┘\n"
     ]
    }
   ],
   "source": [
    "joined = df.join(df2,left_on=\"a\",right_on=\"x\")\n",
    "print(joined)"
   ]
  },
  {
   "cell_type": "code",
   "execution_count": null,
   "id": "78f4fb87-6823-4c60-ae51-bb96172af3a3",
   "metadata": {},
   "outputs": [],
   "source": []
  }
 ],
 "metadata": {
  "kernelspec": {
   "display_name": "Python 3 (ipykernel)",
   "language": "python",
   "name": "python3"
  },
  "language_info": {
   "codemirror_mode": {
    "name": "ipython",
    "version": 3
   },
   "file_extension": ".py",
   "mimetype": "text/x-python",
   "name": "python",
   "nbconvert_exporter": "python",
   "pygments_lexer": "ipython3",
   "version": "3.9.18"
  }
 },
 "nbformat": 4,
 "nbformat_minor": 5
}
