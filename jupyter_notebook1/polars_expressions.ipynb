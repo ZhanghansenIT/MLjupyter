{
 "cells": [
  {
   "cell_type": "markdown",
   "id": "0840ffb0-eaf5-4eaf-ab42-13125dac6fb8",
   "metadata": {},
   "source": [
    "## Expressions "
   ]
  },
  {
   "cell_type": "markdown",
   "id": "c0a47903-b36f-4e3f-a46a-083b2fbd6b94",
   "metadata": {},
   "source": [
    "**Expression** 提供了一个通用的结构既能够解决简单的查询，又能轻松扩展到复杂的查询.\n",
    "\n",
    "- select\n",
    "- filter\n",
    "- with_columns\n",
    "- group_by\n",
    "\n"
   ]
  },
  {
   "cell_type": "markdown",
   "id": "7d7ce974-98b8-430b-8136-7999b216d31c",
   "metadata": {},
   "source": [
    "### Select statement "
   ]
  },
  {
   "cell_type": "markdown",
   "id": "aaba0bd9-8ca5-4743-b08f-c24695215695",
   "metadata": {},
   "source": [
    "为了能选择一列 \n",
    "1. 定义 `DataFrame`\n",
    "2. 选择数据\n"
   ]
  },
  {
   "cell_type": "code",
   "execution_count": 44,
   "id": "0ca48a87-e111-4bfe-be58-81fb649f302e",
   "metadata": {},
   "outputs": [],
   "source": [
    "import polars as pl \n",
    "from datetime import datetime "
   ]
  },
  {
   "cell_type": "code",
   "execution_count": 45,
   "id": "432885ee-8746-449c-8b8c-4870b358e2fb",
   "metadata": {},
   "outputs": [
    {
     "name": "stdout",
     "output_type": "stream",
     "text": [
      "shape: (3, 3)\n",
      "┌─────────┬─────────────────────┬───────┐\n",
      "│ integer ┆ date                ┆ float │\n",
      "│ ---     ┆ ---                 ┆ ---   │\n",
      "│ i64     ┆ datetime[μs]        ┆ f64   │\n",
      "╞═════════╪═════════════════════╪═══════╡\n",
      "│ 1       ┆ 2022-01-01 00:00:00 ┆ 4.0   │\n",
      "│ 2       ┆ 2022-01-02 00:00:00 ┆ 5.0   │\n",
      "│ 3       ┆ 2022-01-03 00:00:00 ┆ 6.0   │\n",
      "└─────────┴─────────────────────┴───────┘\n"
     ]
    }
   ],
   "source": [
    "df = pl.DataFrame(\n",
    "   {\n",
    "        \"integer\": [1, 2, 3],\n",
    "        \"date\": [\n",
    "            datetime(2022, 1, 1),\n",
    "            datetime(2022, 1, 2),\n",
    "            datetime(2022, 1, 3),\n",
    "        ],\n",
    "        \"float\": [4.0, 5.0, 6.0],\n",
    "    }\n",
    ")\n",
    "print(df)\n",
    "    "
   ]
  },
  {
   "cell_type": "code",
   "execution_count": 46,
   "id": "5bcaf6e4-23d4-440c-a7a3-e0dab1a281ea",
   "metadata": {},
   "outputs": [
    {
     "data": {
      "text/html": [
       "<div><style>\n",
       ".dataframe > thead > tr,\n",
       ".dataframe > tbody > tr {\n",
       "  text-align: right;\n",
       "  white-space: pre-wrap;\n",
       "}\n",
       "</style>\n",
       "<small>shape: (3, 1)</small><table border=\"1\" class=\"dataframe\"><thead><tr><th>integer</th></tr><tr><td>i64</td></tr></thead><tbody><tr><td>1</td></tr><tr><td>2</td></tr><tr><td>3</td></tr></tbody></table></div>"
      ],
      "text/plain": [
       "shape: (3, 1)\n",
       "┌─────────┐\n",
       "│ integer │\n",
       "│ ---     │\n",
       "│ i64     │\n",
       "╞═════════╡\n",
       "│ 1       │\n",
       "│ 2       │\n",
       "│ 3       │\n",
       "└─────────┘"
      ]
     },
     "execution_count": 46,
     "metadata": {},
     "output_type": "execute_result"
    }
   ],
   "source": [
    "# 选择所有列\n",
    "df.select(pl.col(\"*\")) \n",
    "# 选择某一列输出 \n",
    "df.select(pl.col(\"integer\"))\n"
   ]
  },
  {
   "cell_type": "code",
   "execution_count": 56,
   "id": "fe76b4cb-ccec-4bb2-aaa6-41297bdd9dfa",
   "metadata": {},
   "outputs": [
    {
     "name": "stdout",
     "output_type": "stream",
     "text": [
      "shape: (8, 4)\n",
      "┌──────────┬────────────┬──────────┬───────┐\n",
      "│ a        ┆ b          ┆ c        ┆ d     │\n",
      "│ ---      ┆ ---        ┆ ---      ┆ ---   │\n",
      "│ f64      ┆ str        ┆ str      ┆ f64   │\n",
      "╞══════════╪════════════╪══════════╪═══════╡\n",
      "│ 0.718233 ┆ 2022-12-01 ┆ 00:00:00 ┆ 1.0   │\n",
      "│ 0.381739 ┆ 2022-12-02 ┆ 00:00:00 ┆ 2.0   │\n",
      "│ 0.384342 ┆ 2022-12-03 ┆ 00:00:00 ┆ null  │\n",
      "│ 0.847523 ┆ 2022-12-04 ┆ 00:00:00 ┆ null  │\n",
      "│ 0.531582 ┆ 2022-12-05 ┆ 00:00:00 ┆ 0.0   │\n",
      "│ 0.5351   ┆ 2022-12-06 ┆ 00:00:00 ┆ -5.0  │\n",
      "│ 0.479497 ┆ 2022-12-07 ┆ 00:00:00 ┆ -42.0 │\n",
      "│ 0.770922 ┆ 2022-12-08 ┆ 00:00:00 ┆ null  │\n",
      "└──────────┴────────────┴──────────┴───────┘\n"
     ]
    }
   ],
   "source": [
    "import pandas as pd\n",
    "from io import StringIO\n",
    "\n",
    "# 输入数据\n",
    "data = \"\"\"a   b        c                   d\n",
    "0   0.718233 2022-12-01 00:00:00  1.0\n",
    "1   0.381739 2022-12-02 00:00:00  2.0\n",
    "2   0.384342 2022-12-03 00:00:00  NaN\n",
    "3   0.847523 2022-12-04 00:00:00  NaN\n",
    "4   0.531582 2022-12-05 00:00:00  0.0\n",
    "5   0.5351   2022-12-06 00:00:00 -5.0\n",
    "6   0.479497 2022-12-07 00:00:00 -42.0\n",
    "7   0.770922 2022-12-08 00:00:00 NaN\n",
    "\"\"\"\n",
    "\n",
    "# 读取数据到Pandas DataFrame\n",
    "pandas_df = pd.read_csv(StringIO(data), delim_whitespace=True)\n",
    "\n",
    "# 将连在一起的日期时间字符串分割成日期和时间两列\n",
    "# pandas_df[['c_date', 'c_time']] = pandas_df['c'].str.split(' ', 1, expand=True)\n",
    "\n",
    "# 转换为Polars DataFrame\n",
    "df2 = pl.DataFrame(pandas_df)\n",
    "\n",
    "# 打印DataFrame\n",
    "print(df2)"
   ]
  },
  {
   "cell_type": "markdown",
   "id": "aa8e9c07-7204-43c3-ae36-bed3bfaf53e3",
   "metadata": {},
   "source": [
    "**选择几列数据**"
   ]
  },
  {
   "cell_type": "code",
   "execution_count": null,
   "id": "cfdf065b-2910-4637-82e6-9387f1456ab3",
   "metadata": {},
   "outputs": [],
   "source": [
    "df2.select(pl.col(\"a\", \"c\",\"b\"))"
   ]
  },
  {
   "cell_type": "code",
   "execution_count": null,
   "id": "40478645-aa04-4ce7-99cd-25b7857c5612",
   "metadata": {},
   "outputs": [],
   "source": [
    "# df2.select(pl.col(\"a\"),pl.col(\"b\")).limit(5)\n",
    "df2.select(pl.col(\"a\",\"b\")).limit(5)"
   ]
  },
  {
   "cell_type": "markdown",
   "id": "f6aefb61-c7ce-4f92-afe1-48670feb9f80",
   "metadata": {},
   "source": [
    "**使用 `pl.exclude()` 排除某些列**"
   ]
  },
  {
   "cell_type": "code",
   "execution_count": 48,
   "id": "11ebbe0c-b3f8-4d3c-9943-281fb908aab1",
   "metadata": {},
   "outputs": [
    {
     "data": {
      "text/html": [
       "<div><style>\n",
       ".dataframe > thead > tr,\n",
       ".dataframe > tbody > tr {\n",
       "  text-align: right;\n",
       "  white-space: pre-wrap;\n",
       "}\n",
       "</style>\n",
       "<small>shape: (8, 2)</small><table border=\"1\" class=\"dataframe\"><thead><tr><th>b</th><th>d</th></tr><tr><td>str</td><td>f64</td></tr></thead><tbody><tr><td>&quot;2022-12-01&quot;</td><td>1.0</td></tr><tr><td>&quot;2022-12-02&quot;</td><td>2.0</td></tr><tr><td>&quot;2022-12-03&quot;</td><td>null</td></tr><tr><td>&quot;2022-12-04&quot;</td><td>null</td></tr><tr><td>&quot;2022-12-05&quot;</td><td>0.0</td></tr><tr><td>&quot;2022-12-06&quot;</td><td>-5.0</td></tr><tr><td>&quot;2022-12-07&quot;</td><td>-42.0</td></tr><tr><td>&quot;2022-12-08&quot;</td><td>null</td></tr></tbody></table></div>"
      ],
      "text/plain": [
       "shape: (8, 2)\n",
       "┌────────────┬───────┐\n",
       "│ b          ┆ d     │\n",
       "│ ---        ┆ ---   │\n",
       "│ str        ┆ f64   │\n",
       "╞════════════╪═══════╡\n",
       "│ 2022-12-01 ┆ 1.0   │\n",
       "│ 2022-12-02 ┆ 2.0   │\n",
       "│ 2022-12-03 ┆ null  │\n",
       "│ 2022-12-04 ┆ null  │\n",
       "│ 2022-12-05 ┆ 0.0   │\n",
       "│ 2022-12-06 ┆ -5.0  │\n",
       "│ 2022-12-07 ┆ -42.0 │\n",
       "│ 2022-12-08 ┆ null  │\n",
       "└────────────┴───────┘"
      ]
     },
     "execution_count": 48,
     "metadata": {},
     "output_type": "execute_result"
    }
   ],
   "source": [
    "exculde_list = [\"a\" ,\"c\"] # 设置排除的列表项 \n",
    "\n",
    "df2.select(pl.exclude(exculde_list))"
   ]
  },
  {
   "cell_type": "markdown",
   "id": "c96c8147-227e-49c0-866e-8322a8910496",
   "metadata": {},
   "source": [
    "#### Filter 过滤\n",
    "过滤器选项允许我们创建DataFrame的一个子集。我们使用与前面相同的DataFrame，并在两个指定日期之间进行筛选。"
   ]
  },
  {
   "cell_type": "code",
   "execution_count": 55,
   "id": "9d788c88-7fe8-46c6-a039-39a1d36a9263",
   "metadata": {},
   "outputs": [
    {
     "name": "stdout",
     "output_type": "stream",
     "text": [
      "shape: (3, 4)\n",
      "┌──────────┬────────────┬──────────┬───────┐\n",
      "│ a        ┆ b          ┆ c        ┆ d     │\n",
      "│ ---      ┆ ---        ┆ ---      ┆ ---   │\n",
      "│ f64      ┆ str        ┆ str      ┆ f64   │\n",
      "╞══════════╪════════════╪══════════╪═══════╡\n",
      "│ 0.381739 ┆ 2022-12-02 ┆ 00:00:00 ┆ 2.0   │\n",
      "│ 0.384342 ┆ 2022-12-03 ┆ 00:00:00 ┆ null  │\n",
      "│ 0.479497 ┆ 2022-12-07 ┆ 00:00:00 ┆ -42.0 │\n",
      "└──────────┴────────────┴──────────┴───────┘\n",
      "shape: (2, 4)\n",
      "┌──────────┬────────────┬──────────┬───────┐\n",
      "│ a        ┆ b          ┆ c        ┆ d     │\n",
      "│ ---      ┆ ---        ┆ ---      ┆ ---   │\n",
      "│ f64      ┆ str        ┆ str      ┆ f64   │\n",
      "╞══════════╪════════════╪══════════╪═══════╡\n",
      "│ 0.381739 ┆ 2022-12-02 ┆ 00:00:00 ┆ 2.0   │\n",
      "│ 0.479497 ┆ 2022-12-07 ┆ 00:00:00 ┆ -42.0 │\n",
      "└──────────┴────────────┴──────────┴───────┘\n"
     ]
    }
   ],
   "source": [
    "# df2.filter(\n",
    "#     pl.col(\"c\").is_between(datetime(2022, 12, 2), datetime(2022, 12, 8)),\n",
    "# )\n",
    "print(df2)\n",
    "# 过滤出a列数值在 [0.4 - 0.6]的行\n",
    "# df2 = df2.filter(\n",
    "\n",
    "#     pl.col(\"a\").is_between(0.4,0.6),\n",
    "# )\n",
    "\n",
    "\n",
    "df2 = df2.filter((pl.col(\"a\") <= 0.5) & (pl.col(\"d\").is_not_null()))\n",
    "print(df2)"
   ]
  },
  {
   "cell_type": "markdown",
   "id": "448786df-4459-47cc-9d77-acf903119e21",
   "metadata": {},
   "source": [
    "### With_columns \n",
    "\n",
    "创建新列"
   ]
  },
  {
   "cell_type": "code",
   "execution_count": 67,
   "id": "11f4a856-86ad-4225-aa45-818ec9c5b45e",
   "metadata": {},
   "outputs": [
    {
     "data": {
      "text/html": [
       "<div><style>\n",
       ".dataframe > thead > tr,\n",
       ".dataframe > tbody > tr {\n",
       "  text-align: right;\n",
       "  white-space: pre-wrap;\n",
       "}\n",
       "</style>\n",
       "<small>shape: (8, 6)</small><table border=\"1\" class=\"dataframe\"><thead><tr><th>a</th><th>b</th><th>c</th><th>d</th><th>e</th><th>b+42</th></tr><tr><td>f64</td><td>str</td><td>str</td><td>f64</td><td>f64</td><td>f64</td></tr></thead><tbody><tr><td>0.718233</td><td>&quot;2022-12-01&quot;</td><td>&quot;00:00:00&quot;</td><td>1.0</td><td>4.648938</td><td>42.718233</td></tr><tr><td>0.381739</td><td>&quot;2022-12-02&quot;</td><td>&quot;00:00:00&quot;</td><td>2.0</td><td>4.648938</td><td>42.381739</td></tr><tr><td>0.384342</td><td>&quot;2022-12-03&quot;</td><td>&quot;00:00:00&quot;</td><td>null</td><td>4.648938</td><td>42.384342</td></tr><tr><td>0.847523</td><td>&quot;2022-12-04&quot;</td><td>&quot;00:00:00&quot;</td><td>null</td><td>4.648938</td><td>42.847523</td></tr><tr><td>0.531582</td><td>&quot;2022-12-05&quot;</td><td>&quot;00:00:00&quot;</td><td>0.0</td><td>4.648938</td><td>42.531582</td></tr><tr><td>0.5351</td><td>&quot;2022-12-06&quot;</td><td>&quot;00:00:00&quot;</td><td>-5.0</td><td>4.648938</td><td>42.5351</td></tr><tr><td>0.479497</td><td>&quot;2022-12-07&quot;</td><td>&quot;00:00:00&quot;</td><td>-42.0</td><td>4.648938</td><td>42.479497</td></tr><tr><td>0.770922</td><td>&quot;2022-12-08&quot;</td><td>&quot;00:00:00&quot;</td><td>null</td><td>4.648938</td><td>42.770922</td></tr></tbody></table></div>"
      ],
      "text/plain": [
       "shape: (8, 6)\n",
       "┌──────────┬────────────┬──────────┬───────┬──────────┬───────────┐\n",
       "│ a        ┆ b          ┆ c        ┆ d     ┆ e        ┆ b+42      │\n",
       "│ ---      ┆ ---        ┆ ---      ┆ ---   ┆ ---      ┆ ---       │\n",
       "│ f64      ┆ str        ┆ str      ┆ f64   ┆ f64      ┆ f64       │\n",
       "╞══════════╪════════════╪══════════╪═══════╪══════════╪═══════════╡\n",
       "│ 0.718233 ┆ 2022-12-01 ┆ 00:00:00 ┆ 1.0   ┆ 4.648938 ┆ 42.718233 │\n",
       "│ 0.381739 ┆ 2022-12-02 ┆ 00:00:00 ┆ 2.0   ┆ 4.648938 ┆ 42.381739 │\n",
       "│ 0.384342 ┆ 2022-12-03 ┆ 00:00:00 ┆ null  ┆ 4.648938 ┆ 42.384342 │\n",
       "│ 0.847523 ┆ 2022-12-04 ┆ 00:00:00 ┆ null  ┆ 4.648938 ┆ 42.847523 │\n",
       "│ 0.531582 ┆ 2022-12-05 ┆ 00:00:00 ┆ 0.0   ┆ 4.648938 ┆ 42.531582 │\n",
       "│ 0.5351   ┆ 2022-12-06 ┆ 00:00:00 ┆ -5.0  ┆ 4.648938 ┆ 42.5351   │\n",
       "│ 0.479497 ┆ 2022-12-07 ┆ 00:00:00 ┆ -42.0 ┆ 4.648938 ┆ 42.479497 │\n",
       "│ 0.770922 ┆ 2022-12-08 ┆ 00:00:00 ┆ null  ┆ 4.648938 ┆ 42.770922 │\n",
       "└──────────┴────────────┴──────────┴───────┴──────────┴───────────┘"
      ]
     },
     "execution_count": 67,
     "metadata": {},
     "output_type": "execute_result"
    }
   ],
   "source": [
    "df2.with_columns(pl.col(\"a\").sum().alias(\"e\"), (pl.col(\"a\") + 42).alias(\"b+42\"))\n",
    "# with_columns(新列1,新列2)\n",
    "# alias 命名"
   ]
  },
  {
   "cell_type": "code",
   "execution_count": 68,
   "id": "8d477589-4f29-4b29-823a-aeccd8f1caa9",
   "metadata": {},
   "outputs": [
    {
     "data": {
      "text/html": [
       "<div><style>\n",
       ".dataframe > thead > tr,\n",
       ".dataframe > tbody > tr {\n",
       "  text-align: right;\n",
       "  white-space: pre-wrap;\n",
       "}\n",
       "</style>\n",
       "<small>shape: (8, 4)</small><table border=\"1\" class=\"dataframe\"><thead><tr><th>a</th><th>b</th><th>c</th><th>d</th></tr><tr><td>f64</td><td>str</td><td>str</td><td>f64</td></tr></thead><tbody><tr><td>0.718233</td><td>&quot;2022-12-01&quot;</td><td>&quot;00:00:00&quot;</td><td>1.0</td></tr><tr><td>0.381739</td><td>&quot;2022-12-02&quot;</td><td>&quot;00:00:00&quot;</td><td>2.0</td></tr><tr><td>0.384342</td><td>&quot;2022-12-03&quot;</td><td>&quot;00:00:00&quot;</td><td>null</td></tr><tr><td>0.847523</td><td>&quot;2022-12-04&quot;</td><td>&quot;00:00:00&quot;</td><td>null</td></tr><tr><td>0.531582</td><td>&quot;2022-12-05&quot;</td><td>&quot;00:00:00&quot;</td><td>0.0</td></tr><tr><td>0.5351</td><td>&quot;2022-12-06&quot;</td><td>&quot;00:00:00&quot;</td><td>-5.0</td></tr><tr><td>0.479497</td><td>&quot;2022-12-07&quot;</td><td>&quot;00:00:00&quot;</td><td>-42.0</td></tr><tr><td>0.770922</td><td>&quot;2022-12-08&quot;</td><td>&quot;00:00:00&quot;</td><td>null</td></tr></tbody></table></div>"
      ],
      "text/plain": [
       "shape: (8, 4)\n",
       "┌──────────┬────────────┬──────────┬───────┐\n",
       "│ a        ┆ b          ┆ c        ┆ d     │\n",
       "│ ---      ┆ ---        ┆ ---      ┆ ---   │\n",
       "│ f64      ┆ str        ┆ str      ┆ f64   │\n",
       "╞══════════╪════════════╪══════════╪═══════╡\n",
       "│ 0.718233 ┆ 2022-12-01 ┆ 00:00:00 ┆ 1.0   │\n",
       "│ 0.381739 ┆ 2022-12-02 ┆ 00:00:00 ┆ 2.0   │\n",
       "│ 0.384342 ┆ 2022-12-03 ┆ 00:00:00 ┆ null  │\n",
       "│ 0.847523 ┆ 2022-12-04 ┆ 00:00:00 ┆ null  │\n",
       "│ 0.531582 ┆ 2022-12-05 ┆ 00:00:00 ┆ 0.0   │\n",
       "│ 0.5351   ┆ 2022-12-06 ┆ 00:00:00 ┆ -5.0  │\n",
       "│ 0.479497 ┆ 2022-12-07 ┆ 00:00:00 ┆ -42.0 │\n",
       "│ 0.770922 ┆ 2022-12-08 ┆ 00:00:00 ┆ null  │\n",
       "└──────────┴────────────┴──────────┴───────┘"
      ]
     },
     "execution_count": 68,
     "metadata": {},
     "output_type": "execute_result"
    }
   ],
   "source": [
    "df2.with_columns( pl.col(\"b\")+pl.col(\"c\").alias(\"f\"))\n",
    "df2"
   ]
  },
  {
   "cell_type": "markdown",
   "id": "77e53ac4-fc25-47cb-a70c-ebe4f9f1570b",
   "metadata": {},
   "source": [
    "### Group by"
   ]
  },
  {
   "cell_type": "code",
   "execution_count": 69,
   "id": "21c475cb-c510-49b7-81f2-22ea7b51f25e",
   "metadata": {},
   "outputs": [],
   "source": [
    "df3 = pl.DataFrame(\n",
    "    {\n",
    "        \"x\": range(8),\n",
    "        \"y\": [\"A\", \"A\", \"A\", \"B\", \"B\", \"C\", \"X\", \"X\"],\n",
    "    }\n",
    ")"
   ]
  },
  {
   "cell_type": "code",
   "execution_count": 70,
   "id": "87df00c0-87ca-4367-8299-d79a1501bc01",
   "metadata": {},
   "outputs": [
    {
     "data": {
      "text/html": [
       "<div><style>\n",
       ".dataframe > thead > tr,\n",
       ".dataframe > tbody > tr {\n",
       "  text-align: right;\n",
       "  white-space: pre-wrap;\n",
       "}\n",
       "</style>\n",
       "<small>shape: (8, 2)</small><table border=\"1\" class=\"dataframe\"><thead><tr><th>x</th><th>y</th></tr><tr><td>i64</td><td>str</td></tr></thead><tbody><tr><td>0</td><td>&quot;A&quot;</td></tr><tr><td>1</td><td>&quot;A&quot;</td></tr><tr><td>2</td><td>&quot;A&quot;</td></tr><tr><td>3</td><td>&quot;B&quot;</td></tr><tr><td>4</td><td>&quot;B&quot;</td></tr><tr><td>5</td><td>&quot;C&quot;</td></tr><tr><td>6</td><td>&quot;X&quot;</td></tr><tr><td>7</td><td>&quot;X&quot;</td></tr></tbody></table></div>"
      ],
      "text/plain": [
       "shape: (8, 2)\n",
       "┌─────┬─────┐\n",
       "│ x   ┆ y   │\n",
       "│ --- ┆ --- │\n",
       "│ i64 ┆ str │\n",
       "╞═════╪═════╡\n",
       "│ 0   ┆ A   │\n",
       "│ 1   ┆ A   │\n",
       "│ 2   ┆ A   │\n",
       "│ 3   ┆ B   │\n",
       "│ 4   ┆ B   │\n",
       "│ 5   ┆ C   │\n",
       "│ 6   ┆ X   │\n",
       "│ 7   ┆ X   │\n",
       "└─────┴─────┘"
      ]
     },
     "execution_count": 70,
     "metadata": {},
     "output_type": "execute_result"
    }
   ],
   "source": [
    "df3"
   ]
  },
  {
   "cell_type": "code",
   "execution_count": 74,
   "id": "6bcadd11-f040-498a-b157-815a624c87cf",
   "metadata": {},
   "outputs": [
    {
     "data": {
      "text/html": [
       "<div><style>\n",
       ".dataframe > thead > tr,\n",
       ".dataframe > tbody > tr {\n",
       "  text-align: right;\n",
       "  white-space: pre-wrap;\n",
       "}\n",
       "</style>\n",
       "<small>shape: (4, 2)</small><table border=\"1\" class=\"dataframe\"><thead><tr><th>y</th><th>count</th></tr><tr><td>str</td><td>u32</td></tr></thead><tbody><tr><td>&quot;A&quot;</td><td>3</td></tr><tr><td>&quot;B&quot;</td><td>2</td></tr><tr><td>&quot;C&quot;</td><td>1</td></tr><tr><td>&quot;X&quot;</td><td>2</td></tr></tbody></table></div>"
      ],
      "text/plain": [
       "shape: (4, 2)\n",
       "┌─────┬───────┐\n",
       "│ y   ┆ count │\n",
       "│ --- ┆ ---   │\n",
       "│ str ┆ u32   │\n",
       "╞═════╪═══════╡\n",
       "│ A   ┆ 3     │\n",
       "│ B   ┆ 2     │\n",
       "│ C   ┆ 1     │\n",
       "│ X   ┆ 2     │\n",
       "└─────┴───────┘"
      ]
     },
     "execution_count": 74,
     "metadata": {},
     "output_type": "execute_result"
    }
   ],
   "source": [
    "df3.group_by(\"y\", maintain_order=True).count()"
   ]
  },
  {
   "cell_type": "code",
   "execution_count": 75,
   "id": "153a7e83-1fe1-4368-bdcd-137dbcab59e4",
   "metadata": {},
   "outputs": [
    {
     "data": {
      "text/html": [
       "<div><style>\n",
       ".dataframe > thead > tr,\n",
       ".dataframe > tbody > tr {\n",
       "  text-align: right;\n",
       "  white-space: pre-wrap;\n",
       "}\n",
       "</style>\n",
       "<small>shape: (4, 3)</small><table border=\"1\" class=\"dataframe\"><thead><tr><th>y</th><th>count</th><th>sum</th></tr><tr><td>str</td><td>u32</td><td>i64</td></tr></thead><tbody><tr><td>&quot;A&quot;</td><td>3</td><td>3</td></tr><tr><td>&quot;B&quot;</td><td>2</td><td>7</td></tr><tr><td>&quot;C&quot;</td><td>1</td><td>5</td></tr><tr><td>&quot;X&quot;</td><td>2</td><td>13</td></tr></tbody></table></div>"
      ],
      "text/plain": [
       "shape: (4, 3)\n",
       "┌─────┬───────┬─────┐\n",
       "│ y   ┆ count ┆ sum │\n",
       "│ --- ┆ ---   ┆ --- │\n",
       "│ str ┆ u32   ┆ i64 │\n",
       "╞═════╪═══════╪═════╡\n",
       "│ A   ┆ 3     ┆ 3   │\n",
       "│ B   ┆ 2     ┆ 7   │\n",
       "│ C   ┆ 1     ┆ 5   │\n",
       "│ X   ┆ 2     ┆ 13  │\n",
       "└─────┴───────┴─────┘"
      ]
     },
     "execution_count": 75,
     "metadata": {},
     "output_type": "execute_result"
    }
   ],
   "source": [
    "df3.group_by(\"y\", maintain_order=True).agg(\n",
    "    pl.col(\"*\").count().alias(\"count\"),\n",
    "    pl.col(\"*\").sum().alias(\"sum\"),\n",
    ")"
   ]
  },
  {
   "cell_type": "markdown",
   "id": "90702514-9f94-4cb0-82fa-4df7b59dfa07",
   "metadata": {},
   "source": [
    "### Combining operations"
   ]
  },
  {
   "cell_type": "code",
   "execution_count": 88,
   "id": "7e7c3fb5-f9d7-4890-b296-fa425a75c911",
   "metadata": {},
   "outputs": [
    {
     "data": {
      "text/html": [
       "<div><style>\n",
       ".dataframe > thead > tr,\n",
       ".dataframe > tbody > tr {\n",
       "  text-align: right;\n",
       "  white-space: pre-wrap;\n",
       "}\n",
       "</style>\n",
       "<small>shape: (8, 4)</small><table border=\"1\" class=\"dataframe\"><thead><tr><th>a</th><th>b</th><th>c</th><th>d</th></tr><tr><td>f64</td><td>str</td><td>str</td><td>f64</td></tr></thead><tbody><tr><td>0.718233</td><td>&quot;2022-12-01&quot;</td><td>&quot;00:00:00&quot;</td><td>1.0</td></tr><tr><td>0.381739</td><td>&quot;2022-12-02&quot;</td><td>&quot;00:00:00&quot;</td><td>2.0</td></tr><tr><td>0.384342</td><td>&quot;2022-12-03&quot;</td><td>&quot;00:00:00&quot;</td><td>null</td></tr><tr><td>0.847523</td><td>&quot;2022-12-04&quot;</td><td>&quot;00:00:00&quot;</td><td>null</td></tr><tr><td>0.531582</td><td>&quot;2022-12-05&quot;</td><td>&quot;00:00:00&quot;</td><td>0.0</td></tr><tr><td>0.5351</td><td>&quot;2022-12-06&quot;</td><td>&quot;00:00:00&quot;</td><td>-5.0</td></tr><tr><td>0.479497</td><td>&quot;2022-12-07&quot;</td><td>&quot;00:00:00&quot;</td><td>-42.0</td></tr><tr><td>0.770922</td><td>&quot;2022-12-08&quot;</td><td>&quot;00:00:00&quot;</td><td>null</td></tr></tbody></table></div>"
      ],
      "text/plain": [
       "shape: (8, 4)\n",
       "┌──────────┬────────────┬──────────┬───────┐\n",
       "│ a        ┆ b          ┆ c        ┆ d     │\n",
       "│ ---      ┆ ---        ┆ ---      ┆ ---   │\n",
       "│ f64      ┆ str        ┆ str      ┆ f64   │\n",
       "╞══════════╪════════════╪══════════╪═══════╡\n",
       "│ 0.718233 ┆ 2022-12-01 ┆ 00:00:00 ┆ 1.0   │\n",
       "│ 0.381739 ┆ 2022-12-02 ┆ 00:00:00 ┆ 2.0   │\n",
       "│ 0.384342 ┆ 2022-12-03 ┆ 00:00:00 ┆ null  │\n",
       "│ 0.847523 ┆ 2022-12-04 ┆ 00:00:00 ┆ null  │\n",
       "│ 0.531582 ┆ 2022-12-05 ┆ 00:00:00 ┆ 0.0   │\n",
       "│ 0.5351   ┆ 2022-12-06 ┆ 00:00:00 ┆ -5.0  │\n",
       "│ 0.479497 ┆ 2022-12-07 ┆ 00:00:00 ┆ -42.0 │\n",
       "│ 0.770922 ┆ 2022-12-08 ┆ 00:00:00 ┆ null  │\n",
       "└──────────┴────────────┴──────────┴───────┘"
      ]
     },
     "execution_count": 88,
     "metadata": {},
     "output_type": "execute_result"
    }
   ],
   "source": [
    "df2\n",
    "# df_x = df2.with_columns(( (pl.col(\"a\") + pl.col(\"d\").is_not_null() )& (pl.col(\"d\"))).alias(\"a* d\"))"
   ]
  },
  {
   "cell_type": "code",
   "execution_count": null,
   "id": "b289f394-2ac5-4ab2-9af6-02381215c49d",
   "metadata": {},
   "outputs": [],
   "source": []
  }
 ],
 "metadata": {
  "kernelspec": {
   "display_name": "Python 3 (ipykernel)",
   "language": "python",
   "name": "python3"
  },
  "language_info": {
   "codemirror_mode": {
    "name": "ipython",
    "version": 3
   },
   "file_extension": ".py",
   "mimetype": "text/x-python",
   "name": "python",
   "nbconvert_exporter": "python",
   "pygments_lexer": "ipython3",
   "version": "3.9.18"
  }
 },
 "nbformat": 4,
 "nbformat_minor": 5
}
